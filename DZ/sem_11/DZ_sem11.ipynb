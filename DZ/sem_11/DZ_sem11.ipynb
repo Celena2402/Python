{
  "nbformat": 4,
  "nbformat_minor": 0,
  "metadata": {
    "colab": {
      "provenance": [],
      "authorship_tag": "ABX9TyMdBWZp84UbCB6h7SYxfRQY",
      "include_colab_link": true
    },
    "kernelspec": {
      "name": "python3",
      "display_name": "Python 3"
    },
    "language_info": {
      "name": "python"
    }
  },
  "cells": [
    {
      "cell_type": "markdown",
      "metadata": {
        "id": "view-in-github",
        "colab_type": "text"
      },
      "source": [
        "<a href=\"https://colab.research.google.com/github/Celena2402/Python/blob/master/DZ_sem11.ipynb\" target=\"_parent\"><img src=\"https://colab.research.google.com/assets/colab-badge.svg\" alt=\"Open In Colab\"/></a>"
      ]
    },
    {
      "cell_type": "markdown",
      "source": [
        "Даны две функции: f(x) = x^3 - 50x и g(x) = -x^4 + 88x^2 - 241\n",
        "\n",
        "Требуется:\n",
        "\n",
        "Найти точки пересечения этих функций.\n",
        "\n",
        "Построить графики функций в одной системе координат\n",
        "\n",
        "Построить график общей функции:"
      ],
      "metadata": {
        "id": "YZywf8TV2D4j"
      }
    },
    {
      "cell_type": "markdown",
      "source": [
        "Находим точки пересечения этих функций."
      ],
      "metadata": {
        "id": "tQDAEV0H2Or-"
      }
    },
    {
      "cell_type": "code",
      "execution_count": 5,
      "metadata": {
        "id": "tOjfWb3KE7Y9"
      },
      "outputs": [],
      "source": [
        "import numpy as np\n",
        "from sympy import poly, Symbol\n",
        "from sympy.abc import x\n",
        "from sympy.solvers import solve\n",
        "import sympy\n",
        "\n",
        "f1='x**3-50*x'\n",
        "f2='-x**4+88*x**2-241'"
      ]
    },
    {
      "cell_type": "code",
      "source": [
        "x = Symbol('x', real=True)"
      ],
      "metadata": {
        "id": "iLDP0lkyjI5F"
      },
      "execution_count": 6,
      "outputs": []
    },
    {
      "cell_type": "code",
      "source": [
        "fx=sympy.polys.polytools.poly_from_expr(f1, x)[0]"
      ],
      "metadata": {
        "id": "kcBAT2WkFHta"
      },
      "execution_count": 13,
      "outputs": []
    },
    {
      "cell_type": "code",
      "source": [
        "gx=sympy.polys.polytools.poly_from_expr(f2, x)[0]"
      ],
      "metadata": {
        "id": "K8oQH8HchvCo"
      },
      "execution_count": 14,
      "outputs": []
    },
    {
      "cell_type": "code",
      "source": [
        "print(fx)"
      ],
      "metadata": {
        "colab": {
          "base_uri": "https://localhost:8080/"
        },
        "id": "cLuR-73zh8Pw",
        "outputId": "cf8b0cdc-096c-41ee-9338-701436ba0665"
      },
      "execution_count": 15,
      "outputs": [
        {
          "output_type": "stream",
          "name": "stdout",
          "text": [
            "Poly(x**3 - 50*x, x, domain='ZZ[x]')\n"
          ]
        }
      ]
    },
    {
      "cell_type": "code",
      "source": [
        "print(gx)"
      ],
      "metadata": {
        "colab": {
          "base_uri": "https://localhost:8080/"
        },
        "id": "dUk_5mFkiyWm",
        "outputId": "f278cfd9-89fe-47b3-9198-ae943aee25ec"
      },
      "execution_count": 16,
      "outputs": [
        {
          "output_type": "stream",
          "name": "stdout",
          "text": [
            "Poly(-x**4 + 88*x**2 - 241, x, domain='ZZ[x]')\n"
          ]
        }
      ]
    },
    {
      "cell_type": "code",
      "source": [
        "dx=fx-gx"
      ],
      "metadata": {
        "id": "qttHxr3Ui299"
      },
      "execution_count": 17,
      "outputs": []
    },
    {
      "cell_type": "code",
      "source": [
        "print(dx)"
      ],
      "metadata": {
        "colab": {
          "base_uri": "https://localhost:8080/"
        },
        "id": "skQNuYJXjV3b",
        "outputId": "a743017c-8932-4582-ccbd-618c9cdbd3ad"
      },
      "execution_count": 18,
      "outputs": [
        {
          "output_type": "stream",
          "name": "stdout",
          "text": [
            "Poly(x**4 + x**3 - 88*x**2 - 50*x + 241, x, domain='ZZ[x]')\n"
          ]
        }
      ]
    },
    {
      "cell_type": "code",
      "source": [
        "x = Symbol('x', real=True)"
      ],
      "metadata": {
        "id": "3eAbrKf1jxsT"
      },
      "execution_count": 19,
      "outputs": []
    },
    {
      "cell_type": "code",
      "source": [
        "dx1, dx2,dx3,dx4=solve(dx)"
      ],
      "metadata": {
        "id": "dxaPk9TijeGj"
      },
      "execution_count": 20,
      "outputs": []
    },
    {
      "cell_type": "code",
      "source": [
        "#print(f'dx1={dx1},\\ndx2={dx2},\\ndx3={dx3},\\ndx4={dx4}')"
      ],
      "metadata": {
        "id": "r-dQcTOPnzUp"
      },
      "execution_count": null,
      "outputs": []
    },
    {
      "cell_type": "code",
      "source": [
        "x1=round(dx1.evalf(chop=True),3)"
      ],
      "metadata": {
        "id": "1r52ZzRVoEkn"
      },
      "execution_count": 21,
      "outputs": []
    },
    {
      "cell_type": "code",
      "source": [
        "x2=round(dx2.evalf(chop=True),3)"
      ],
      "metadata": {
        "id": "8QA8_DfYotrl"
      },
      "execution_count": 22,
      "outputs": []
    },
    {
      "cell_type": "code",
      "source": [
        "x3=round(dx3.evalf(chop=True),3)"
      ],
      "metadata": {
        "id": "BaM4Ivdvow9F"
      },
      "execution_count": 23,
      "outputs": []
    },
    {
      "cell_type": "code",
      "source": [
        "x4=round(dx4.evalf(chop=True),3)"
      ],
      "metadata": {
        "id": "O92nS0fvoz0d"
      },
      "execution_count": 24,
      "outputs": []
    },
    {
      "cell_type": "code",
      "source": [
        "print(f'x1={x1},\\nx2={x2},\\nx3={x3},\\nx4={x4}')"
      ],
      "metadata": {
        "colab": {
          "base_uri": "https://localhost:8080/"
        },
        "id": "nbFchunSpvl0",
        "outputId": "e691359b-9ddf-4362-f10d-a90e0efc6572"
      },
      "execution_count": 25,
      "outputs": [
        {
          "output_type": "stream",
          "name": "stdout",
          "text": [
            "x1=-9.459,\n",
            "x2=1.418,\n",
            "x3=-1.989,\n",
            "x4=9.031\n"
          ]
        }
      ]
    },
    {
      "cell_type": "code",
      "source": [
        "y1 = x1**3-50*x1\n",
        "#y1=-x1**4+88*x1**2-241\n",
        "print(f'y1= {y1}')"
      ],
      "metadata": {
        "colab": {
          "base_uri": "https://localhost:8080/"
        },
        "id": "zYlLVu6YqOGY",
        "outputId": "c8fc4c44-f1e4-48b6-e4ea-8503f248036f"
      },
      "execution_count": 26,
      "outputs": [
        {
          "output_type": "stream",
          "name": "stdout",
          "text": [
            "y1= -373.4\n"
          ]
        }
      ]
    },
    {
      "cell_type": "code",
      "source": [
        "y2 = x2**3-50*x2\n",
        "#y2=-x2**4+88*x2**2-241\n",
        "print(f'y2= {y2}')"
      ],
      "metadata": {
        "colab": {
          "base_uri": "https://localhost:8080/"
        },
        "id": "gUTrxEejrnVW",
        "outputId": "40df25a0-b763-4e3d-d02c-620bb9a57877"
      },
      "execution_count": 27,
      "outputs": [
        {
          "output_type": "stream",
          "name": "stdout",
          "text": [
            "y2= -68.05\n"
          ]
        }
      ]
    },
    {
      "cell_type": "code",
      "source": [
        "y3 = x3**3-50*x3\n",
        "#y3=-x3**4+88*x3**2-241\n",
        "print(f'y3= {y3}')"
      ],
      "metadata": {
        "colab": {
          "base_uri": "https://localhost:8080/"
        },
        "id": "nPArhG-Krs6u",
        "outputId": "8281717c-8394-401b-dbb2-c449671a2c13"
      },
      "execution_count": 28,
      "outputs": [
        {
          "output_type": "stream",
          "name": "stdout",
          "text": [
            "y3= 91.58\n"
          ]
        }
      ]
    },
    {
      "cell_type": "code",
      "source": [
        "y4 = x4**3-50*x4\n",
        "#y4=-x4**4+88*x4**2-241\n",
        "print(f'y4= {y4}')"
      ],
      "metadata": {
        "colab": {
          "base_uri": "https://localhost:8080/"
        },
        "id": "F423vVRnr_-d",
        "outputId": "bfbf6b8e-b89f-4ec8-8a95-f066e89daa06"
      },
      "execution_count": 30,
      "outputs": [
        {
          "output_type": "stream",
          "name": "stdout",
          "text": [
            "y4= 285.0\n"
          ]
        }
      ]
    },
    {
      "cell_type": "code",
      "source": [
        "print('Точки пересечения:')\n",
        "print(f'(x1:y1) - ({x1} : {y1})\\n(x2:y2) - ({x2} : {y2})\\n(x3:y3) - ({x3} : {y3})\\n(x4:y4) - ({x4} : {y4})')"
      ],
      "metadata": {
        "colab": {
          "base_uri": "https://localhost:8080/"
        },
        "id": "9MWNHKxBsyCK",
        "outputId": "91fb42a9-354f-45ce-d944-3d8cc94f5b58"
      },
      "execution_count": 31,
      "outputs": [
        {
          "output_type": "stream",
          "name": "stdout",
          "text": [
            "Точки пересечения:\n",
            "(x1:y1) - (-9.459 : -373.4)\n",
            "(x2:y2) - (1.418 : -68.05)\n",
            "(x3:y3) - (-1.989 : 91.58)\n",
            "(x4:y4) - (9.031 : 285.0)\n"
          ]
        }
      ]
    },
    {
      "cell_type": "markdown",
      "source": [
        "Строим графики функций f(x) и g(x) в одной системе координат"
      ],
      "metadata": {
        "id": "BO92Fv8P2XmQ"
      }
    },
    {
      "cell_type": "code",
      "source": [
        "import matplotlib as mpl\n",
        "import matplotlib.pyplot as plt\n",
        "import numpy as np\n",
        "\n",
        "x = np.linspace(-10, 10, 100)  # Sample data.\n",
        "\n",
        "plt.plot(x, x**3-50*x, label='f(x)=x^3-50x')  \n",
        "plt.plot(x, -x**4+88*x**2-241, label='g(x)=-x^4+88x^2-241')  # etc.\n",
        "#plt.plot(x, x**4+x**3-50*x+241, label='f(x)g(x)=x^4+x^3-88x^2-50x+241')\n",
        "plt.xlabel('x label')\n",
        "plt.ylabel('y label')\n",
        "plt.title(\"Functions f(x) and g(x)\")\n",
        "plt.legend();\n",
        "\n",
        "# точки пересечения\n",
        "plt.plot(x1, y1, 'ro')\n",
        "plt.plot(x2, y2, 'ro')\n",
        "plt.plot(x3, y3, 'ro')\n",
        "plt.plot(x4, y4, 'ro')\n",
        "plt.show()\n"
      ],
      "metadata": {
        "colab": {
          "base_uri": "https://localhost:8080/",
          "height": 295
        },
        "id": "U3-gaDNwyMtl",
        "outputId": "840823f8-bb50-42a1-8fd4-304fd1810349"
      },
      "execution_count": 33,
      "outputs": [
        {
          "output_type": "display_data",
          "data": {
            "text/plain": [
              "<Figure size 432x288 with 1 Axes>"
            ],
            "image/png": "[encoded data removed]"
          },
          "metadata": {
            "needs_background": "light"
          }
        }
      ]
    },
    {
      "cell_type": "markdown",
      "source": [
        "Строим график общей функции f(x)-g(x)"
      ],
      "metadata": {
        "id": "kY1PDDhB2lOo"
      }
    },
    {
      "cell_type": "code",
      "source": [
        "import matplotlib as mpl\n",
        "import matplotlib.pyplot as plt\n",
        "import numpy as np\n",
        "\n",
        "x = np.linspace(-10, 10, 100)  # Sample data.\n",
        "\n",
        "plt.plot(x, x**4+x**3-50*x+241, label='f(x)-g(x)=x^4+x^3-88x^2-50x+241')\n",
        "plt.xlabel('x label')\n",
        "plt.ylabel('y label')\n",
        "plt.title(\"Graph of the general function f(x)g(x)\")\n",
        "plt.legend();"
      ],
      "metadata": {
        "colab": {
          "base_uri": "https://localhost:8080/",
          "height": 295
        },
        "id": "TMDPBL5U0BsA",
        "outputId": "4e023866-4f77-471d-8364-15b846212a45"
      },
      "execution_count": 36,
      "outputs": [
        {
          "output_type": "display_data",
          "data": {
            "text/plain": [
              "<Figure size 432x288 with 1 Axes>"
            ],
            "image/png": "[encoded data removed]"
          },
          "metadata": {
            "needs_background": "light"
          }
        }
      ]
    }
  ]
}